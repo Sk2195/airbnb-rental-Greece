{
 "cells": [
  {
   "cell_type": "code",
   "execution_count": 11,
   "id": "e8b0a35b",
   "metadata": {},
   "outputs": [],
   "source": [
    "import numpy as np\n",
    "import pandas as pd\n",
    "import matplotlib.colors as mcolors\n",
    "import folium\n",
    "import matplotlib.pyplot as plt\n",
    "from folium.plugins import HeatMap\n",
    "from folium.map import Layer, MacroElement\n",
    "from jinja2 import Template\n",
    "from branca.element import Figure\n",
    "\n",
    "\n",
    "from IPython.display import IFrame\n",
    "\n"
   ]
  },
  {
   "cell_type": "code",
   "execution_count": 12,
   "id": "c02d7fbb",
   "metadata": {},
   "outputs": [],
   "source": [
    "df = pd.read_csv('C:/Users/chimi/Desktop/Python Data Science Projects/airbnb-rentalprice/task 2- cleaning the data/merged_athensrental.csv')"
   ]
  },
  {
   "cell_type": "code",
   "execution_count": 13,
   "id": "40dd6ece",
   "metadata": {},
   "outputs": [
    {
     "data": {
      "text/plain": [
       "(498987, 18)"
      ]
     },
     "execution_count": 13,
     "metadata": {},
     "output_type": "execute_result"
    }
   ],
   "source": [
    "df.shape"
   ]
  },
  {
   "cell_type": "code",
   "execution_count": 14,
   "id": "18f41955",
   "metadata": {},
   "outputs": [
    {
     "data": {
      "text/html": [
       "\n",
       "        <iframe\n",
       "            width=\"600\"\n",
       "            height=\"400\"\n",
       "            src=\"athensdefault_map.html\"\n",
       "            frameborder=\"0\"\n",
       "            allowfullscreen\n",
       "            \n",
       "        ></iframe>\n",
       "        "
      ],
      "text/plain": [
       "<IPython.lib.display.IFrame at 0x2828dc68250>"
      ]
     },
     "execution_count": 14,
     "metadata": {},
     "output_type": "execute_result"
    }
   ],
   "source": [
    "# Create the map of Athens\n",
    "athens_map = folium.Map(location=[37.9838, 23.7275], zoom_start=10)\n",
    "\n",
    "# Save the map to a temporary HTML file\n",
    "filepath = 'athensdefault_map.html'\n",
    "athens_map.save(filepath)\n",
    "\n",
    "IFrame(\"athensdefault_map.html\", width=600, height=400)\n"
   ]
  },
  {
   "cell_type": "code",
   "execution_count": 16,
   "id": "7259de4e",
   "metadata": {},
   "outputs": [
    {
     "data": {
      "text/html": [
       "\n",
       "        <iframe\n",
       "            width=\"600\"\n",
       "            height=\"400\"\n",
       "            src=\"athensgeoheatmap_map.html\"\n",
       "            frameborder=\"0\"\n",
       "            allowfullscreen\n",
       "            \n",
       "        ></iframe>\n",
       "        "
      ],
      "text/plain": [
       "<IPython.lib.display.IFrame at 0x2828d4c26a0>"
      ]
     },
     "execution_count": 16,
     "metadata": {},
     "output_type": "execute_result"
    }
   ],
   "source": [
    "# Geographic heat-map of Athens, Greece\n",
    "\n",
    "\n",
    "# Create a Map instance centered at Athens\n",
    "athens_map = folium.Map([37.9838, 23.7275], zoom_start=11.5, tiles='CartoDB Dark_Matter')\n",
    "\n",
    "# Define the color gradient\n",
    "gradient = {\n",
    "    0.0: '#ffe0b2',\n",
    "    0.5: '#ff80ab',\n",
    "    1.0: '#c51162'\n",
    "}\n",
    "\n",
    "\n",
    "# Create a HeatMap instance and add it to the map\n",
    "HeatMap(df[['latitude', 'longitude']].values.tolist(), radius=8, gradient=gradient).add_to(athens_map)\n",
    "\n",
    "\n",
    "\n",
    "# Display the map\n",
    "filepath = 'athensgeoheatmap_map.html'\n",
    "athens_map.save(filepath)\n",
    "\n",
    "IFrame('athensgeoheatmap_map.html', width=600, height=400)\n"
   ]
  },
  {
   "cell_type": "code",
   "execution_count": null,
   "id": "089363f8",
   "metadata": {},
   "outputs": [],
   "source": []
  }
 ],
 "metadata": {
  "kernelspec": {
   "display_name": "Python 3 (ipykernel)",
   "language": "python",
   "name": "python3"
  },
  "language_info": {
   "codemirror_mode": {
    "name": "ipython",
    "version": 3
   },
   "file_extension": ".py",
   "mimetype": "text/x-python",
   "name": "python",
   "nbconvert_exporter": "python",
   "pygments_lexer": "ipython3",
   "version": "3.9.13"
  }
 },
 "nbformat": 4,
 "nbformat_minor": 5
}
