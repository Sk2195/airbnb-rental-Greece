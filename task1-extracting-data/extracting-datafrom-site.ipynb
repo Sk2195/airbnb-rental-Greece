{
 "cells": [
  {
   "cell_type": "code",
   "execution_count": 12,
   "id": "cf8d83ac",
   "metadata": {},
   "outputs": [
    {
     "name": "stdout",
     "output_type": "stream",
     "text": [
      "Successfully downloaded: listings_1.csv\n",
      "Successfully downloaded: reviews_1.csv\n",
      "Successfully downloaded: reviews.csv_1.gz\n",
      "Successfully downloaded: listings_2.csv\n",
      "Successfully downloaded: reviews_2.csv\n",
      "Successfully downloaded: reviews.csv_2.gz\n",
      "Successfully downloaded: listings_3.csv\n",
      "Successfully downloaded: reviews_3.csv\n",
      "Successfully downloaded: reviews.csv_3.gz\n",
      "Successfully downloaded: listings_4.csv\n",
      "Successfully downloaded: reviews_4.csv\n",
      "Successfully downloaded: reviews.csv_4.gz\n"
     ]
    }
   ],
   "source": [
    "import requests\n",
    "import os\n",
    "\n",
    "def download_airbnb_files(url, filename):\n",
    "    try:\n",
    "        with requests.get(url, stream=True) as r:\n",
    "            r.raise_for_status()\n",
    "            with open(filename, 'wb') as f:\n",
    "                for chunk in r.iter_content(chunk_size=8192):\n",
    "                    f.write(chunk)\n",
    "        print('Successfully downloaded:', filename)\n",
    "    except requests.exceptions.HTTPError as errh:\n",
    "        print(\"HTTP Error:\", errh)\n",
    "    except requests.exceptions.ConnectionError as errc:\n",
    "        print(\"Error Connecting:\", errc)\n",
    "    except requests.exceptions.Timeout as errt:\n",
    "        print(\"Timeout Error:\", errt)\n",
    "    except requests.exceptions.RequestException as err:\n",
    "        print(\"Oops: Something Else\", err)\n",
    "\n",
    "# Make a list data that are required (End of quarter for the last 12 months)\n",
    "dates = ['2023-06-25', '2023-03-27', '2022-12-27', '2022-09-20']\n",
    "\n",
    "visualisation_files = ['listings.csv', 'reviews.csv']\n",
    "data_files = ['reviews.csv.gz']\n",
    "\n",
    "# Download each file \n",
    "for i, data in enumerate(dates):\n",
    "    \n",
    "    # Create Download URL List for each date\n",
    "    visualisation_urls = ['http://data.insideairbnb.com/greece/attica/athens/{}/visualisations/{}'.format(data, file) for file in visualisation_files]\n",
    "    data_urls = ['http://data.insideairbnb.com/greece/attica/athens/{}/data/{}'.format(data, file) for file in data_files]\n",
    "\n",
    "    # Combine both url lists\n",
    "    all_urls = visualisation_urls + data_urls\n",
    "    \n",
    "    # Download from each URL\n",
    "    for url in all_urls:\n",
    "        # Split the file name and extension\n",
    "        filename, ext = os.path.splitext(url.split('/')[-1])\n",
    "        # Append the number to the filename and reattach the extension\n",
    "        new_filename = \"{}_{}{}\".format(filename, i+1, ext)\n",
    "        download_airbnb_files(url, new_filename)\n"
   ]
  },
  {
   "cell_type": "code",
   "execution_count": null,
   "id": "5c4a7cc8",
   "metadata": {},
   "outputs": [],
   "source": []
  }
 ],
 "metadata": {
  "kernelspec": {
   "display_name": "Python 3 (ipykernel)",
   "language": "python",
   "name": "python3"
  },
  "language_info": {
   "codemirror_mode": {
    "name": "ipython",
    "version": 3
   },
   "file_extension": ".py",
   "mimetype": "text/x-python",
   "name": "python",
   "nbconvert_exporter": "python",
   "pygments_lexer": "ipython3",
   "version": "3.9.13"
  }
 },
 "nbformat": 4,
 "nbformat_minor": 5
}
